def result_value(W, H, N):
    # N이 홀수일 때와 짝수일 때 각각의 경우를 처리
    if N % 2 == 0:
        result = (N - 2) / 4.0
    else:
        result = ((N - 1) * (N - 1)) / (4.0 * N)

    result *= 2 * H

    return result

# 사용자 입력 받기
W, H, N = map(int, input().split())

# 결과 계산 및 출력
print(f"{result_value(W, H, N):.6f}")
