N = int(input())
for _ in range(N):
    M = int(input())
    a, b = 1, 0
    for i in range(M): # 0은 1이 호출된 횟수, 1은 0과 1이 호출된 합
        a,b = b, a+b 
    print(a,b)
