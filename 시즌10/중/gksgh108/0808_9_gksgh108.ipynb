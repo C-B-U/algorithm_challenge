inp = list(map(int, input().split()))
N, K = inp[0], inp[1]

# 리스트 입력 받고 정렬
lst = sorted(list(map(int, input().split())))
answer = 0

# 계산
for i in range(1, N):
    answer += (i - (i - K if i - K > 0 else 0)) * lst[i]

print(answer)
