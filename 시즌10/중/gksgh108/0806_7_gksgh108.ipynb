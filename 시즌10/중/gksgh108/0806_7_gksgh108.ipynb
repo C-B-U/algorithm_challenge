n = int(input())
a = [0] * 1000001

for i in map(int, input().split()):
    a[i] += 1

b = 0
for i in map(int, input().split()):
    if a[i] >= 1:
        a[i] -= 1
    else:
        b += 1

print(b)
