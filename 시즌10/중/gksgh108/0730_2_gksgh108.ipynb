# 입력 받기
n, m = map(int, input().split())
board = [input().strip() for _ in range(n)]

# 두 가지 체스판 패턴
pattern1 = [['W', 'B'] * 4, ['B', 'W'] * 4] * 4
pattern2 = [['B', 'W'] * 4, ['W', 'B'] * 4] * 4

min_repaints = float('inf')

# 8x8 체스판을 확인하는 루프
for i in range(n - 7):
    for j in range(m - 7):
        repaint_count1 = 0
        repaint_count2 = 0
        for x in range(8):
            for y in range(8):
                if board[i + x][j + y] != pattern1[x][y]:
                    repaint_count1 += 1
                if board[i + x][j + y] != pattern2[x][y]:
                    repaint_count2 += 1
        min_repaints = min(min_repaints, repaint_count1, repaint_count2)

print(min_repaints)
