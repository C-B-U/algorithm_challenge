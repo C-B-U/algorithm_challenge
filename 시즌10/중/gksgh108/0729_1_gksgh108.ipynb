n, m = map(int, input().split())
listA = [list(map(int, list(input()))) for _ in range(n)]
listB = [list(map(int, list(input()))) for _ in range(n)]

def flip(i, j):
    for x in range(i, i + 3):
        for y in range(j, j + 3):
            listA[x][y] = 1 - listA[x][y]

cnt = 0
if (n < 3 or m < 3) and listA != listB:
    cnt = -1
else:
    for r in range(n - 2):
        for c in range(m - 2):
            if listA[r][c] != listB[r][c]:
                cnt += 1
                flip(r, c)

if listA != listB:
    cnt = -1

print(cnt)
