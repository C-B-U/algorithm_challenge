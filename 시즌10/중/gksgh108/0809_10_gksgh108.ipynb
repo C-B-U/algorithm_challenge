n = int(input())
nums = list(map(int, input().split()))

result = -1
frequency = [0] * (n + 1)

for num in nums:
    if num <= n:
        frequency[num] += 1

for i in range(n + 1):
    if frequency[i] == i:
        result = i

print(result)
