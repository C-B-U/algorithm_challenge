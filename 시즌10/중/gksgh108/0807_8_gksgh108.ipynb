import sys
input = sys.stdin.read

data = input().split()
index = 0

N = int(data[index])
index += 1

v = []
money = {}

for i in range(N):
    s = data[index]
    w = int(data[index + 1])
    d = int(data[index + 2])
    p = int(data[index + 3])
    index += 4
    v.append(((s, w), (d, p)))

for i in range(N):
    s = data[index]
    p = int(data[index + 1])
    index += 2
    money[s] = p

day = [False] * 80

for i in range(N):
    name, w = v[i][0]
    d, p = v[i][1]
    if p <= money[name]:
        day[w * 7 + d] = True

cnt = 0
mx = 0

for i in range(80):
    if day[i]:
        cnt += 1
    else:
        cnt = 0
    mx = max(mx, cnt)

print(mx)
