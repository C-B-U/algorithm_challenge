# 입력 받기
N = int(input())

# 한수 카운트를 위한 변수
count = 0

# 1부터 N까지 모든 수에 대해 한수인지 확인
for num in range(1, N + 1):
    # 숫자를 문자열로 변환
    num_str = str(num)
    if len(num_str) <= 2:
        # 1자리 또는 2자리 숫자는 항상 한수
        count += 1
    else:
        # 3자리 이상의 숫자는 등차수열인지 확인
        is_hansu = True
        diff = int(num_str[1]) - int(num_str[0])
        for i in range(1, len(num_str) - 1):
            if int(num_str[i + 1]) - int(num_str[i]) != diff:
                is_hansu = False
                break
        if is_hansu:
            count += 1

# 결과 출력
print(count)
