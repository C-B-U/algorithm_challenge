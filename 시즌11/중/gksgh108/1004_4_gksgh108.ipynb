a, b = map(int, input().split())

A = ((a + 1) // 2) * 2
B = (b // 2) * 2

if A <= 2:
    A = 4

if B < A:
    print(0)
else:
    num = ((B - A) // 2) + 1
    print(num * (A + B) // 2)
