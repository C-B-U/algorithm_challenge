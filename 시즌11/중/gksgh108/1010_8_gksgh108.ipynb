import sys
input = sys.stdin.readline
sys.setrecursionlimit(10**6)
n = int(input()) # 돌
b = list(map(int, input().split())) # 돌다리별 가능한 칸의 개수
s = int(input()) # 출발점
cnt = 1 # 출발점 1부터 카운트
v = [0] * n # 방문한 돌

stack = [s - 1]  # 출발점에서 시작 (인덱스는 0부터 시작하므로 s-1)
v[s - 1] = 1  # 출발점 방문 표시

while stack:
    x = stack.pop()
    for nx in (x + b[x], x - b[x]):  # 이동할 수 있는 두 방향
        if 0 <= nx < n and v[nx] == 0:
            cnt += 1
            v[nx] = 1
            stack.append(nx)  # 다음에 방문할 곳을 스택에 추가

print(cnt)
