# 입력 받기
N, A, B = map(int, input().split())  # 현재 학기 수 N, 전공 학점 A, 총 학점 B
sem = [tuple(map(int, input().split())) for _ in range(10)]  # 각 학기의 전공/비전공 과목 수

req_major = 66  # 전공
req_total = 130  # 총 학점
rem_sem = 8 - N  # 남은 학기
max_coruse = 6  # 한 학기 수강
per_course = 3  # 과목 당 학점

# 현재 학점
cur_major = A
cur_total = B

# 남은 학기 동안 학점 계산
for i in range(rem_sem):
    major, non_major = sem[i]  # 해당 학기의 전공/비전공 과목 수

    # 최대 수강 가능
    max_major = min(major, max_coruse)
    
    # 비전공 과목 최대 수강 가능
    max_non_major = min(non_major, max_coruse - max_major)

    cur_major += max_major * per_course
    cur_total += (max_major + max_non_major) * per_course

    if cur_major >= req_major and cur_total >= req_total:
        print("Nice")
        break
else:
    print("Nae ga wae")
