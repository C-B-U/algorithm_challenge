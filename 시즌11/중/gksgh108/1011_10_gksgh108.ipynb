import sys
sys.setrecursionlimit(10**6)

# 방향 이동: 북, 동, 남, 서
dx = [-1, 0, 1, 0]
dy = [0, 1, 0, -1]

# 입력 받기
N, M = map(int, input().split())  # N: 세로 크기, M: 가로 크기
r, c, d = map(int, input().split())  # r: 로봇의 세로 위치, c: 로봇의 가로 위치, d: 로봇의 바라보는 방향

# 청소 구역 상태
arr = [list(map(int, input().split())) for _ in range(N)]

count = 1  # 청소한 구역 개수
arr[r][c] = -1  # 시작 지점 청소 완료

stack = [(r, c, d)]  # 딕셔너리로 위치와 방향 저장

while stack:
    x, y, dir = stack.pop()
    cleaned = False  # 4방향 청소

    for i in range(4):
        dir = (dir + 3) % 4  # 왼쪽으로 회전
        nx = x + dx[dir]
        ny = y + dy[dir]

        # 청소할 수 있는 구역이면(4방향 모두)
        if 0 <= nx < N and 0 <= ny < M and arr[nx][ny] == 0:
            arr[nx][ny] = -1  # 청소 완료 시
            count += 1
            stack.append((nx, ny, dir))  # 새 위치로
            cleaned = True
            break

    # 네 방향 모두 청소할 수 없는 경우
    if not cleaned:
        back_dir = (dir + 2) % 4  # 후진 방향
        bx = x + dx[back_dir]
        by = y + dy[back_dir]

        # 후진 가능하면 후진
        if 0 <= bx < N and 0 <= by < M and arr[bx][by] != 1:
            stack.append((bx, by, dir))  # 바라보는 방향은 유지

print(count)
