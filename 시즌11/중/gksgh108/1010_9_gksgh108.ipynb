SIZE = 26
TRUE = 'T'
FALSE = 'F'

n = int(input())
graph = [[False] * SIZE for _ in range(SIZE)]

for _ in range(n):
    command = input()
    start = ord(command[0]) - ord('a')
    end = ord(command[5]) - ord('a')
    graph[start][end] = True

n = int(input())

for _ in range(n):
    command = input()
    start = ord(command[0]) - ord('a')
    end = ord(command[5]) - ord('a')

    # BFS를 리스트로 구현
    queue = [start]
    visited = [False] * SIZE
    visited[start] = True
    found = False
    
    while queue:
        now = queue.pop(0)
        if now == end:
            found = True
            break
        for i in range(SIZE):
            if not visited[i] and graph[now][i]:
                visited[i] = True
                queue.append(i)
    
    if found:
        print(TRUE)
    else:
        print(FALSE)

# 여기는 라이브러리 사용
'''from collections import deque

SIZE = 26
TRUE = 'T'
FALSE = 'F'

n = int(input())
graph = [[False] * SIZE for _ in range(SIZE)]

# 입력을 받아서 그래프를 구성하는 부분
for _ in range(n):
    command = input()
    start = ord(command[0]) - ord('a')
    end = ord(command[5]) - ord('a')
    graph[start][end] = True

n = int(input())

for _ in range(n):
    command = input()
    start = ord(command[0]) - ord('a')
    end = ord(command[5]) - ord('a')

    # BFS
    queue = deque([start])
    visited = [False] * SIZE
    visited[start] = True
    found = False
    
    while queue:
        now = queue.popleft()
        if now == end:
            found = True
            break
        for i in range(SIZE):
            if not visited[i] and graph[now][i]:
                visited[i] = True
                queue.append(i)
    
    if found:
        print(TRUE)
    else:
        print(FALSE)'''
