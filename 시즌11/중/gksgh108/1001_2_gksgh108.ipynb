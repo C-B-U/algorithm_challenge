import sys

# 입력 받기
input = sys.stdin.read
data = input().splitlines()

N, M = map(int, data[0].split())
Size = max(N, M) * 3

# 배열 초기화
Shapes = [list(data[i + 1]) for i in range(3 * N)]

row = 3 * N
column = 3 * M

for i in range(1, row, 3):
    for j in range(1, column, 3):
        # . 검사
        if j <= 0 or i <= 0 or j >= Size or i >= Size:
            continue

        is_dot = True
        for y in range(i - 1, i + 2):
            for x in range(j - 1, j + 2):
                if Shapes[y][x] != '.':
                    is_dot = False
                    break
            if not is_dot:
                break

        if is_dot:
            # 왼쪽
            if j - 2 >= 0 and Shapes[i][j - 2] == '#':
                Shapes[i][j] = '#'
                Shapes[i][j - 1] = '#'

            # 오른쪽
            if j + 2 < column and Shapes[i][j + 2] == '#':
                Shapes[i][j] = '#'
                Shapes[i][j + 1] = '#'

            # 위쪽
            if i - 2 >= 0 and Shapes[i - 2][j] == '#':
                Shapes[i][j] = '#'
                Shapes[i - 1][j] = '#'

            # 아래쪽
            if i + 2 < row and Shapes[i + 2][j] == '#':
                Shapes[i][j] = '#'
                Shapes[i + 1][j] = '#'

# 결과 출력
for line in Shapes:
    print(''.join(line))
