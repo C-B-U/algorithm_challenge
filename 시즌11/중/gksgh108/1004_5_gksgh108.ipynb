N = int(input())
tteok = list(map(int, input().split()))

# 정렬
tteok.sort()

# 최대 중복 개수 찾기
max_count = current_count = 1

for i in range(1, N):
    if tteok[i] == tteok[i - 1]:
        current_count += 1
    else:
        max_count = max(max_count, current_count)
        current_count = 1

max_count = max(max_count, current_count)  # 마지막 그룹 체크

print(max_count)
