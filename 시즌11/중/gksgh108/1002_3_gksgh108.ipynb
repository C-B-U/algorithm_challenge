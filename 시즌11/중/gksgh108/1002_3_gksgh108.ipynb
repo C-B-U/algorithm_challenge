n, k, a, b = map(int, input().split())
arr = [k] * n

day = 0
while 0 not in arr:
    # A개의 화분에 B씩 물주기
    for i in range(a):
        arr[i] += b

    # 모든 화분의 수분이 1씩 감소
    for i in range(len(arr)):
        arr[i] -= 1

    # 수분이 적은 순으로 재 정렬
    arr.sort()
    day += 1

print(day)
