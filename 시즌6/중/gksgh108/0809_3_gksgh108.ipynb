import sys
input = sys.stdin.readline

n = int(input())
nList = []
for i in range(n):
    nList.append(int(input()))

nList.sort(reverse=True)

for i in range(n-2):
    if nList[i] < nList[i+1] + nList[i+2]:
        print(nList[i] + nList[i+1] + nList[i+2])
        exit()
print(-1)
