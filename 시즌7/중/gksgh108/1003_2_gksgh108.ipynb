m,n=map(int,input().split())

for i in range(m,n+1):
    if i==1:
        continue
    for j in range(2,int(i**0.5)+1):
        if i%j==0: # 약수가 존재하므로 소수가 아님
            break
    else:
        print(i)
